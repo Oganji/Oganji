{
 "cells": [
  {
   "cell_type": "markdown",
   "id": "c55003f4",
   "metadata": {
    "papermill": {
     "duration": 0.033966,
     "end_time": "2025-03-08T17:10:43.639312",
     "exception": false,
     "start_time": "2025-03-08T17:10:43.605346",
     "status": "completed"
    },
    "tags": []
   },
   "source": [
    "# Detection Malicious URL Using ML Models"
   ]
  },
  {
   "cell_type": "markdown",
   "id": "36da3deb",
   "metadata": {
    "papermill": {
     "duration": 0.031002,
     "end_time": "2025-03-08T17:10:43.702427",
     "exception": false,
     "start_time": "2025-03-08T17:10:43.671425",
     "status": "completed"
    },
    "tags": []
   },
   "source": []
  },
  {
   "cell_type": "markdown",
   "id": "a66bcb50",
   "metadata": {
    "papermill": {
     "duration": 0.034073,
     "end_time": "2025-03-08T17:10:43.767597",
     "exception": false,
     "start_time": "2025-03-08T17:10:43.733524",
     "status": "completed"
    },
    "tags": []
   },
   "source": [
    "A URL consists of the top-level domain, hostname, paths, and port of the web\n",
    "address, as in the following diagram:"
   ]
  },
  {
   "cell_type": "markdown",
   "id": "35248acd",
   "metadata": {
    "papermill": {
     "duration": 0.030847,
     "end_time": "2025-03-08T17:10:43.831015",
     "exception": false,
     "start_time": "2025-03-08T17:10:43.800168",
     "status": "completed"
    },
    "tags": []
   },
   "source": [
    "![url](https://user-images.githubusercontent.com/70811337/150021474-4ba64b34-1d09-427f-9cf6-25508571d18d.PNG)"
   ]
  },
  {
   "cell_type": "markdown",
   "id": "555163b3",
   "metadata": {
    "papermill": {
     "duration": 0.030513,
     "end_time": "2025-03-08T17:10:43.892492",
     "exception": false,
     "start_time": "2025-03-08T17:10:43.861979",
     "status": "completed"
    },
    "tags": []
   },
   "source": [
    "<h2 style=\"width: 100%;\n",
    "    margin: 0;\n",
    "    padding: 0;\n",
    "    text-align: center;\">---- Table of contents ----</h2>\n",
    "\n",
    "1. [Importing Libraries](#1)\n",
    "2. [Load Dataset](#2)\n",
    "3. [Meta information of Dataframe](#3)\n",
    "4. [Checking for NaN values](#4)\n",
    "5. [Feature Extraction](#5)\n",
    "6. [Train & Test Split](#6)\n",
    "7. [Training models](#7)\n",
    "  <ul>\n",
    "      <li>✔️ Decision Tree Classifier</li>\n",
    "      <li>✔️ Random Forest Classifier</li>\n",
    "      <li>✔️ AdaBoost Classifier</li>\n",
    "      <li>✔️ KNeighbors Classifier</li>\n",
    "      <li>✔️ SGD Classifier</li>\n",
    "      <li>✔️ Extra Trees Classifier</li>\n",
    "      <li>✔️ Gaussian NB</li>\n",
    "  </ul>\n",
    "8. [Final Report](#8)"
   ]
  },
  {
   "cell_type": "code",
   "execution_count": 1,
   "id": "935976cb",
   "metadata": {
    "execution": {
     "iopub.execute_input": "2025-03-08T17:10:43.964208Z",
     "iopub.status.busy": "2025-03-08T17:10:43.963443Z",
     "iopub.status.idle": "2025-03-08T17:10:54.072634Z",
     "shell.execute_reply": "2025-03-08T17:10:54.071990Z",
     "shell.execute_reply.started": "2022-01-24T13:40:47.397437Z"
    },
    "papermill": {
     "duration": 10.148549,
     "end_time": "2025-03-08T17:10:54.072831",
     "exception": false,
     "start_time": "2025-03-08T17:10:43.924282",
     "status": "completed"
    },
    "tags": []
   },
   "outputs": [
    {
     "name": "stdout",
     "output_type": "stream",
     "text": [
      "Collecting tld\r\n",
      "  Downloading tld-0.13-py2.py3-none-any.whl (263 kB)\r\n",
      "     |████████████████████████████████| 263 kB 8.6 MB/s            \r\n",
      "\u001b[?25hInstalling collected packages: tld\r\n",
      "Successfully installed tld-0.13\r\n",
      "\u001b[33mWARNING: Running pip as the 'root' user can result in broken permissions and conflicting behaviour with the system package manager. It is recommended to use a virtual environment instead: https://pip.pypa.io/warnings/venv\u001b[0m\r\n",
      "Note: you may need to restart the kernel to use updated packages.\n"
     ]
    }
   ],
   "source": [
    "pip install tld"
   ]
  },
  {
   "cell_type": "markdown",
   "id": "41633c90",
   "metadata": {
    "papermill": {
     "duration": 0.032572,
     "end_time": "2025-03-08T17:10:54.138988",
     "exception": false,
     "start_time": "2025-03-08T17:10:54.106416",
     "status": "completed"
    },
    "tags": []
   },
   "source": [
    "<a id=\"1\"></a> <br>\n",
    "# 📥 Importing Libraries"
   ]
  },
  {
   "cell_type": "code",
   "execution_count": 2,
   "id": "adb02480",
   "metadata": {
    "execution": {
     "iopub.execute_input": "2025-03-08T17:10:54.214849Z",
     "iopub.status.busy": "2025-03-08T17:10:54.214186Z",
     "iopub.status.idle": "2025-03-08T17:10:55.825173Z",
     "shell.execute_reply": "2025-03-08T17:10:55.824377Z",
     "shell.execute_reply.started": "2022-01-24T13:40:58.330978Z"
    },
    "papermill": {
     "duration": 1.653332,
     "end_time": "2025-03-08T17:10:55.825334",
     "exception": false,
     "start_time": "2025-03-08T17:10:54.172002",
     "status": "completed"
    },
    "tags": []
   },
   "outputs": [],
   "source": [
    "import re\n",
    "import numpy as np\n",
    "import pandas as pd\n",
    "import seaborn as sns\n",
    "import matplotlib.pyplot as plt\n",
    "from colorama import Fore\n",
    "from urllib.parse import urlparse\n",
    "from sklearn.model_selection import train_test_split\n",
    "from sklearn.metrics import confusion_matrix, classification_report, accuracy_score\n",
    "from sklearn.tree import DecisionTreeClassifier\n",
    "from sklearn.ensemble import RandomForestClassifier, AdaBoostClassifier, ExtraTreesClassifier\n",
    "from sklearn.neighbors import KNeighborsClassifier\n",
    "from sklearn.linear_model import SGDClassifier\n",
    "from sklearn.naive_bayes import GaussianNB\n",
    "from tld import get_tld, is_tld"
   ]
  },
  {
   "cell_type": "markdown",
   "id": "0c94d869",
   "metadata": {
    "papermill": {
     "duration": 0.034317,
     "end_time": "2025-03-08T17:10:55.897775",
     "exception": false,
     "start_time": "2025-03-08T17:10:55.863458",
     "status": "completed"
    },
    "tags": []
   },
   "source": [
    "<a id=\"2\"></a> <br>\n",
    "# 🗃️ Load Dataset"
   ]
  },
  {
   "cell_type": "code",
   "execution_count": 3,
   "id": "5167ab88",
   "metadata": {
    "execution": {
     "iopub.execute_input": "2025-03-08T17:10:55.977891Z",
     "iopub.status.busy": "2025-03-08T17:10:55.977095Z",
     "iopub.status.idle": "2025-03-08T17:10:57.645634Z",
     "shell.execute_reply": "2025-03-08T17:10:57.645088Z",
     "shell.execute_reply.started": "2022-01-24T13:41:00.018249Z"
    },
    "papermill": {
     "duration": 1.711818,
     "end_time": "2025-03-08T17:10:57.645801",
     "exception": false,
     "start_time": "2025-03-08T17:10:55.933983",
     "status": "completed"
    },
    "tags": []
   },
   "outputs": [
    {
     "data": {
      "text/html": [
       "<div>\n",
       "<style scoped>\n",
       "    .dataframe tbody tr th:only-of-type {\n",
       "        vertical-align: middle;\n",
       "    }\n",
       "\n",
       "    .dataframe tbody tr th {\n",
       "        vertical-align: top;\n",
       "    }\n",
       "\n",
       "    .dataframe thead th {\n",
       "        text-align: right;\n",
       "    }\n",
       "</style>\n",
       "<table border=\"1\" class=\"dataframe\">\n",
       "  <thead>\n",
       "    <tr style=\"text-align: right;\">\n",
       "      <th></th>\n",
       "      <th>url</th>\n",
       "      <th>type</th>\n",
       "    </tr>\n",
       "  </thead>\n",
       "  <tbody>\n",
       "    <tr>\n",
       "      <th>0</th>\n",
       "      <td>br-icloud.com.br</td>\n",
       "      <td>phishing</td>\n",
       "    </tr>\n",
       "    <tr>\n",
       "      <th>1</th>\n",
       "      <td>mp3raid.com/music/krizz_kaliko.html</td>\n",
       "      <td>benign</td>\n",
       "    </tr>\n",
       "    <tr>\n",
       "      <th>2</th>\n",
       "      <td>bopsecrets.org/rexroth/cr/1.htm</td>\n",
       "      <td>benign</td>\n",
       "    </tr>\n",
       "    <tr>\n",
       "      <th>3</th>\n",
       "      <td>http://www.garage-pirenne.be/index.php?option=...</td>\n",
       "      <td>defacement</td>\n",
       "    </tr>\n",
       "    <tr>\n",
       "      <th>4</th>\n",
       "      <td>http://adventure-nicaragua.net/index.php?optio...</td>\n",
       "      <td>defacement</td>\n",
       "    </tr>\n",
       "  </tbody>\n",
       "</table>\n",
       "</div>"
      ],
      "text/plain": [
       "                                                 url        type\n",
       "0                                   br-icloud.com.br    phishing\n",
       "1                mp3raid.com/music/krizz_kaliko.html      benign\n",
       "2                    bopsecrets.org/rexroth/cr/1.htm      benign\n",
       "3  http://www.garage-pirenne.be/index.php?option=...  defacement\n",
       "4  http://adventure-nicaragua.net/index.php?optio...  defacement"
      ]
     },
     "execution_count": 3,
     "metadata": {},
     "output_type": "execute_result"
    }
   ],
   "source": [
    "data = pd.read_csv('../input/malicious-urls-dataset/malicious_phish.csv')\n",
    "data.head()"
   ]
  },
  {
   "cell_type": "markdown",
   "id": "f9b77230",
   "metadata": {
    "papermill": {
     "duration": 0.032637,
     "end_time": "2025-03-08T17:10:57.711870",
     "exception": false,
     "start_time": "2025-03-08T17:10:57.679233",
     "status": "completed"
    },
    "tags": []
   },
   "source": [
    "<a id=\"3\"></a> <br>\n",
    "# 📝 Meta information of Dataframe"
   ]
  },
  {
   "cell_type": "code",
   "execution_count": 4,
   "id": "91cebba9",
   "metadata": {
    "execution": {
     "iopub.execute_input": "2025-03-08T17:10:57.854360Z",
     "iopub.status.busy": "2025-03-08T17:10:57.853678Z",
     "iopub.status.idle": "2025-03-08T17:10:57.881337Z",
     "shell.execute_reply": "2025-03-08T17:10:57.880583Z",
     "shell.execute_reply.started": "2022-01-24T13:41:01.662528Z"
    },
    "papermill": {
     "duration": 0.136096,
     "end_time": "2025-03-08T17:10:57.881491",
     "exception": false,
     "start_time": "2025-03-08T17:10:57.745395",
     "status": "completed"
    },
    "tags": []
   },
   "outputs": [
    {
     "name": "stdout",
     "output_type": "stream",
     "text": [
      "<class 'pandas.core.frame.DataFrame'>\n",
      "RangeIndex: 651191 entries, 0 to 651190\n",
      "Data columns (total 2 columns):\n",
      " #   Column  Non-Null Count   Dtype \n",
      "---  ------  --------------   ----- \n",
      " 0   url     651191 non-null  object\n",
      " 1   type    651191 non-null  object\n",
      "dtypes: object(2)\n",
      "memory usage: 9.9+ MB\n"
     ]
    }
   ],
   "source": [
    "data.info()"
   ]
  },
  {
   "cell_type": "markdown",
   "id": "bad331b0",
   "metadata": {
    "papermill": {
     "duration": 0.034386,
     "end_time": "2025-03-08T17:10:57.949881",
     "exception": false,
     "start_time": "2025-03-08T17:10:57.915495",
     "status": "completed"
    },
    "tags": []
   },
   "source": [
    "<a id=\"4\"></a>\n",
    "# 🔎 Checking for NaN values"
   ]
  },
  {
   "cell_type": "code",
   "execution_count": 5,
   "id": "baaead64",
   "metadata": {
    "execution": {
     "iopub.execute_input": "2025-03-08T17:10:58.096443Z",
     "iopub.status.busy": "2025-03-08T17:10:58.095426Z",
     "iopub.status.idle": "2025-03-08T17:10:58.104510Z",
     "shell.execute_reply": "2025-03-08T17:10:58.103869Z",
     "shell.execute_reply.started": "2022-01-24T13:41:01.753513Z"
    },
    "papermill": {
     "duration": 0.121281,
     "end_time": "2025-03-08T17:10:58.104699",
     "exception": false,
     "start_time": "2025-03-08T17:10:57.983418",
     "status": "completed"
    },
    "tags": []
   },
   "outputs": [
    {
     "data": {
      "text/plain": [
       "url     0\n",
       "type    0\n",
       "dtype: int64"
      ]
     },
     "execution_count": 5,
     "metadata": {},
     "output_type": "execute_result"
    }
   ],
   "source": [
    "data.isnull().sum()"
   ]
  },
  {
   "cell_type": "code",
   "execution_count": 6,
   "id": "1b7c3545",
   "metadata": {
    "execution": {
     "iopub.execute_input": "2025-03-08T17:10:58.229262Z",
     "iopub.status.busy": "2025-03-08T17:10:58.226352Z",
     "iopub.status.idle": "2025-03-08T17:10:58.233501Z",
     "shell.execute_reply": "2025-03-08T17:10:58.232990Z",
     "shell.execute_reply.started": "2022-01-24T13:41:01.828417Z"
    },
    "papermill": {
     "duration": 0.092567,
     "end_time": "2025-03-08T17:10:58.233667",
     "exception": false,
     "start_time": "2025-03-08T17:10:58.141100",
     "status": "completed"
    },
    "tags": []
   },
   "outputs": [
    {
     "data": {
      "text/plain": [
       "benign        428103\n",
       "defacement     96457\n",
       "phishing       94111\n",
       "malware        32520\n",
       "Name: type, dtype: int64"
      ]
     },
     "execution_count": 6,
     "metadata": {},
     "output_type": "execute_result"
    }
   ],
   "source": [
    "count = data.type.value_counts()\n",
    "count"
   ]
  },
  {
   "cell_type": "code",
   "execution_count": 7,
   "id": "492080ac",
   "metadata": {
    "execution": {
     "iopub.execute_input": "2025-03-08T17:10:58.323427Z",
     "iopub.status.busy": "2025-03-08T17:10:58.322762Z",
     "iopub.status.idle": "2025-03-08T17:10:58.563246Z",
     "shell.execute_reply": "2025-03-08T17:10:58.562665Z",
     "shell.execute_reply.started": "2022-01-24T13:41:01.874383Z"
    },
    "papermill": {
     "duration": 0.293325,
     "end_time": "2025-03-08T17:10:58.563390",
     "exception": false,
     "start_time": "2025-03-08T17:10:58.270065",
     "status": "completed"
    },
    "tags": []
   },
   "outputs": [
    {
     "data": {
      "image/png": "[encoded data removed]",
      "text/plain": [
       "<Figure size 432x288 with 1 Axes>"
      ]
     },
     "metadata": {
      "needs_background": "light"
     },
     "output_type": "display_data"
    }
   ],
   "source": [
    "sns.barplot(x=count.index, y=count)\n",
    "plt.xlabel('Types')\n",
    "plt.ylabel('Count');"
   ]
  },
  {
   "cell_type": "markdown",
   "id": "569ad37f",
   "metadata": {
    "papermill": {
     "duration": 0.034476,
     "end_time": "2025-03-08T17:10:58.633647",
     "exception": false,
     "start_time": "2025-03-08T17:10:58.599171",
     "status": "completed"
    },
    "tags": []
   },
   "source": [
    "<h4>first have to omit the (www.) from the URL which is in fact a sub domain in itself.</h4>"
   ]
  },
  {
   "cell_type": "code",
   "execution_count": 8,
   "id": "27ecc626",
   "metadata": {
    "execution": {
     "iopub.execute_input": "2025-03-08T17:10:58.713932Z",
     "iopub.status.busy": "2025-03-08T17:10:58.713237Z",
     "iopub.status.idle": "2025-03-08T17:10:59.753610Z",
     "shell.execute_reply": "2025-03-08T17:10:59.752961Z",
     "shell.execute_reply.started": "2022-01-24T13:41:02.132114Z"
    },
    "papermill": {
     "duration": 1.084584,
     "end_time": "2025-03-08T17:10:59.753775",
     "exception": false,
     "start_time": "2025-03-08T17:10:58.669191",
     "status": "completed"
    },
    "tags": []
   },
   "outputs": [
    {
     "data": {
      "text/html": [
       "<div>\n",
       "<style scoped>\n",
       "    .dataframe tbody tr th:only-of-type {\n",
       "        vertical-align: middle;\n",
       "    }\n",
       "\n",
       "    .dataframe tbody tr th {\n",
       "        vertical-align: top;\n",
       "    }\n",
       "\n",
       "    .dataframe thead th {\n",
       "        text-align: right;\n",
       "    }\n",
       "</style>\n",
       "<table border=\"1\" class=\"dataframe\">\n",
       "  <thead>\n",
       "    <tr style=\"text-align: right;\">\n",
       "      <th></th>\n",
       "      <th>url</th>\n",
       "      <th>type</th>\n",
       "    </tr>\n",
       "  </thead>\n",
       "  <tbody>\n",
       "    <tr>\n",
       "      <th>0</th>\n",
       "      <td>br-icloud.com.br</td>\n",
       "      <td>phishing</td>\n",
       "    </tr>\n",
       "    <tr>\n",
       "      <th>1</th>\n",
       "      <td>mp3raid.com/music/krizz_kaliko.html</td>\n",
       "      <td>benign</td>\n",
       "    </tr>\n",
       "    <tr>\n",
       "      <th>2</th>\n",
       "      <td>bopsecrets.org/rexroth/cr/1.htm</td>\n",
       "      <td>benign</td>\n",
       "    </tr>\n",
       "    <tr>\n",
       "      <th>3</th>\n",
       "      <td>http://garage-pirenne.be/index.php?option=com_...</td>\n",
       "      <td>defacement</td>\n",
       "    </tr>\n",
       "    <tr>\n",
       "      <th>4</th>\n",
       "      <td>http://adventure-nicaragua.net/index.php?optio...</td>\n",
       "      <td>defacement</td>\n",
       "    </tr>\n",
       "    <tr>\n",
       "      <th>...</th>\n",
       "      <td>...</td>\n",
       "      <td>...</td>\n",
       "    </tr>\n",
       "    <tr>\n",
       "      <th>651186</th>\n",
       "      <td>xbox360.ign.com/objects/850/850402.html</td>\n",
       "      <td>phishing</td>\n",
       "    </tr>\n",
       "    <tr>\n",
       "      <th>651187</th>\n",
       "      <td>games.teamxbox.com/xbox-360/1860/Dead-Space/</td>\n",
       "      <td>phishing</td>\n",
       "    </tr>\n",
       "    <tr>\n",
       "      <th>651188</th>\n",
       "      <td>gamespot.com/xbox360/action/deadspace/</td>\n",
       "      <td>phishing</td>\n",
       "    </tr>\n",
       "    <tr>\n",
       "      <th>651189</th>\n",
       "      <td>en.wikipedia.org/wiki/Dead_Space_(video_game)</td>\n",
       "      <td>phishing</td>\n",
       "    </tr>\n",
       "    <tr>\n",
       "      <th>651190</th>\n",
       "      <td>angelfire.com/goth/devilmaycrytonite/</td>\n",
       "      <td>phishing</td>\n",
       "    </tr>\n",
       "  </tbody>\n",
       "</table>\n",
       "<p>651191 rows × 2 columns</p>\n",
       "</div>"
      ],
      "text/plain": [
       "                                                      url        type\n",
       "0                                        br-icloud.com.br    phishing\n",
       "1                     mp3raid.com/music/krizz_kaliko.html      benign\n",
       "2                         bopsecrets.org/rexroth/cr/1.htm      benign\n",
       "3       http://garage-pirenne.be/index.php?option=com_...  defacement\n",
       "4       http://adventure-nicaragua.net/index.php?optio...  defacement\n",
       "...                                                   ...         ...\n",
       "651186            xbox360.ign.com/objects/850/850402.html    phishing\n",
       "651187       games.teamxbox.com/xbox-360/1860/Dead-Space/    phishing\n",
       "651188             gamespot.com/xbox360/action/deadspace/    phishing\n",
       "651189      en.wikipedia.org/wiki/Dead_Space_(video_game)    phishing\n",
       "651190              angelfire.com/goth/devilmaycrytonite/    phishing\n",
       "\n",
       "[651191 rows x 2 columns]"
      ]
     },
     "execution_count": 8,
     "metadata": {},
     "output_type": "execute_result"
    }
   ],
   "source": [
    "data['url'] = data['url'].replace('www.', '', regex=True)\n",
    "data"
   ]
  },
  {
   "cell_type": "code",
   "execution_count": 9,
   "id": "6f726bf5",
   "metadata": {
    "execution": {
     "iopub.execute_input": "2025-03-08T17:10:59.836185Z",
     "iopub.status.busy": "2025-03-08T17:10:59.834729Z",
     "iopub.status.idle": "2025-03-08T17:10:59.839532Z",
     "shell.execute_reply": "2025-03-08T17:10:59.838874Z",
     "shell.execute_reply.started": "2022-01-24T13:41:03.117987Z"
    },
    "papermill": {
     "duration": 0.050426,
     "end_time": "2025-03-08T17:10:59.839731",
     "exception": false,
     "start_time": "2025-03-08T17:10:59.789305",
     "status": "completed"
    },
    "tags": []
   },
   "outputs": [
    {
     "data": {
      "text/html": [
       "<div>\n",
       "<style scoped>\n",
       "    .dataframe tbody tr th:only-of-type {\n",
       "        vertical-align: middle;\n",
       "    }\n",
       "\n",
       "    .dataframe tbody tr th {\n",
       "        vertical-align: top;\n",
       "    }\n",
       "\n",
       "    .dataframe thead th {\n",
       "        text-align: right;\n",
       "    }\n",
       "</style>\n",
       "<table border=\"1\" class=\"dataframe\">\n",
       "  <thead>\n",
       "    <tr style=\"text-align: right;\">\n",
       "      <th></th>\n",
       "      <th>url</th>\n",
       "      <th>type</th>\n",
       "    </tr>\n",
       "  </thead>\n",
       "  <tbody>\n",
       "    <tr>\n",
       "      <th>0</th>\n",
       "      <td>br-icloud.com.br</td>\n",
       "      <td>phishing</td>\n",
       "    </tr>\n",
       "    <tr>\n",
       "      <th>1</th>\n",
       "      <td>mp3raid.com/music/krizz_kaliko.html</td>\n",
       "      <td>benign</td>\n",
       "    </tr>\n",
       "    <tr>\n",
       "      <th>2</th>\n",
       "      <td>bopsecrets.org/rexroth/cr/1.htm</td>\n",
       "      <td>benign</td>\n",
       "    </tr>\n",
       "    <tr>\n",
       "      <th>3</th>\n",
       "      <td>http://garage-pirenne.be/index.php?option=com_...</td>\n",
       "      <td>defacement</td>\n",
       "    </tr>\n",
       "    <tr>\n",
       "      <th>4</th>\n",
       "      <td>http://adventure-nicaragua.net/index.php?optio...</td>\n",
       "      <td>defacement</td>\n",
       "    </tr>\n",
       "  </tbody>\n",
       "</table>\n",
       "</div>"
      ],
      "text/plain": [
       "                                                 url        type\n",
       "0                                   br-icloud.com.br    phishing\n",
       "1                mp3raid.com/music/krizz_kaliko.html      benign\n",
       "2                    bopsecrets.org/rexroth/cr/1.htm      benign\n",
       "3  http://garage-pirenne.be/index.php?option=com_...  defacement\n",
       "4  http://adventure-nicaragua.net/index.php?optio...  defacement"
      ]
     },
     "execution_count": 9,
     "metadata": {},
     "output_type": "execute_result"
    }
   ],
   "source": [
    "data.head()"
   ]
  },
  {
   "cell_type": "code",
   "execution_count": 10,
   "id": "3e90e5aa",
   "metadata": {
    "execution": {
     "iopub.execute_input": "2025-03-08T17:10:59.969169Z",
     "iopub.status.busy": "2025-03-08T17:10:59.968067Z",
     "iopub.status.idle": "2025-03-08T17:11:00.351906Z",
     "shell.execute_reply": "2025-03-08T17:11:00.352505Z",
     "shell.execute_reply.started": "2022-01-24T13:41:03.134183Z"
    },
    "papermill": {
     "duration": 0.474067,
     "end_time": "2025-03-08T17:11:00.352711",
     "exception": false,
     "start_time": "2025-03-08T17:10:59.878644",
     "status": "completed"
    },
    "tags": []
   },
   "outputs": [],
   "source": [
    "rem = {\"Category\": {\"benign\": 0, \"defacement\": 1, \"phishing\":2, \"malware\":3}}\n",
    "data['Category'] = data['type']\n",
    "data = data.replace(rem)"
   ]
  },
  {
   "cell_type": "markdown",
   "id": "70c0ee58",
   "metadata": {
    "papermill": {
     "duration": 0.035346,
     "end_time": "2025-03-08T17:11:00.423993",
     "exception": false,
     "start_time": "2025-03-08T17:11:00.388647",
     "status": "completed"
    },
    "tags": []
   },
   "source": [
    "<a id=\"5\"></a> <br>\n",
    "# 🦾 Feature Extraction"
   ]
  },
  {
   "cell_type": "code",
   "execution_count": 11,
   "id": "f3716de5",
   "metadata": {
    "execution": {
     "iopub.execute_input": "2025-03-08T17:11:00.511032Z",
     "iopub.status.busy": "2025-03-08T17:11:00.503062Z",
     "iopub.status.idle": "2025-03-08T17:11:00.852313Z",
     "shell.execute_reply": "2025-03-08T17:11:00.851660Z",
     "shell.execute_reply.started": "2022-01-24T13:41:03.522894Z"
    },
    "papermill": {
     "duration": 0.391445,
     "end_time": "2025-03-08T17:11:00.852453",
     "exception": false,
     "start_time": "2025-03-08T17:11:00.461008",
     "status": "completed"
    },
    "tags": []
   },
   "outputs": [],
   "source": [
    "data['url_len'] = data['url'].apply(lambda x: len(str(x)))"
   ]
  },
  {
   "cell_type": "code",
   "execution_count": 12,
   "id": "752bc63c",
   "metadata": {
    "execution": {
     "iopub.execute_input": "2025-03-08T17:11:00.931289Z",
     "iopub.status.busy": "2025-03-08T17:11:00.930511Z",
     "iopub.status.idle": "2025-03-08T17:11:00.933265Z",
     "shell.execute_reply": "2025-03-08T17:11:00.933715Z",
     "shell.execute_reply.started": "2022-01-24T13:41:03.856371Z"
    },
    "papermill": {
     "duration": 0.045467,
     "end_time": "2025-03-08T17:11:00.933900",
     "exception": false,
     "start_time": "2025-03-08T17:11:00.888433",
     "status": "completed"
    },
    "tags": []
   },
   "outputs": [],
   "source": [
    "def process_tld(url):\n",
    "    try:\n",
    "        res = get_tld(url, as_object = True, fail_silently=False,fix_protocol=True)\n",
    "        pri_domain= res.parsed_url.netloc\n",
    "    except :\n",
    "        pri_domain= None\n",
    "    return pri_domain"
   ]
  },
  {
   "cell_type": "code",
   "execution_count": 13,
   "id": "ea78e72b",
   "metadata": {
    "execution": {
     "iopub.execute_input": "2025-03-08T17:11:01.022874Z",
     "iopub.status.busy": "2025-03-08T17:11:01.014170Z",
     "iopub.status.idle": "2025-03-08T17:11:11.661385Z",
     "shell.execute_reply": "2025-03-08T17:11:11.660472Z",
     "shell.execute_reply.started": "2022-01-24T13:41:03.86493Z"
    },
    "papermill": {
     "duration": 10.689214,
     "end_time": "2025-03-08T17:11:11.661600",
     "exception": false,
     "start_time": "2025-03-08T17:11:00.972386",
     "status": "completed"
    },
    "tags": []
   },
   "outputs": [],
   "source": [
    "data['domain'] = data['url'].apply(lambda i: process_tld(i))"
   ]
  },
  {
   "cell_type": "code",
   "execution_count": 14,
   "id": "7a91e1b1",
   "metadata": {
    "execution": {
     "iopub.execute_input": "2025-03-08T17:11:11.745843Z",
     "iopub.status.busy": "2025-03-08T17:11:11.744900Z",
     "iopub.status.idle": "2025-03-08T17:11:11.749098Z",
     "shell.execute_reply": "2025-03-08T17:11:11.748427Z",
     "shell.execute_reply.started": "2022-01-24T13:41:14.08271Z"
    },
    "papermill": {
     "duration": 0.050335,
     "end_time": "2025-03-08T17:11:11.749243",
     "exception": false,
     "start_time": "2025-03-08T17:11:11.698908",
     "status": "completed"
    },
    "tags": []
   },
   "outputs": [
    {
     "data": {
      "text/html": [
       "<div>\n",
       "<style scoped>\n",
       "    .dataframe tbody tr th:only-of-type {\n",
       "        vertical-align: middle;\n",
       "    }\n",
       "\n",
       "    .dataframe tbody tr th {\n",
       "        vertical-align: top;\n",
       "    }\n",
       "\n",
       "    .dataframe thead th {\n",
       "        text-align: right;\n",
       "    }\n",
       "</style>\n",
       "<table border=\"1\" class=\"dataframe\">\n",
       "  <thead>\n",
       "    <tr style=\"text-align: right;\">\n",
       "      <th></th>\n",
       "      <th>url</th>\n",
       "      <th>type</th>\n",
       "      <th>Category</th>\n",
       "      <th>url_len</th>\n",
       "      <th>domain</th>\n",
       "    </tr>\n",
       "  </thead>\n",
       "  <tbody>\n",
       "    <tr>\n",
       "      <th>0</th>\n",
       "      <td>br-icloud.com.br</td>\n",
       "      <td>phishing</td>\n",
       "      <td>2</td>\n",
       "      <td>16</td>\n",
       "      <td>br-icloud.com.br</td>\n",
       "    </tr>\n",
       "    <tr>\n",
       "      <th>1</th>\n",
       "      <td>mp3raid.com/music/krizz_kaliko.html</td>\n",
       "      <td>benign</td>\n",
       "      <td>0</td>\n",
       "      <td>35</td>\n",
       "      <td>mp3raid.com</td>\n",
       "    </tr>\n",
       "    <tr>\n",
       "      <th>2</th>\n",
       "      <td>bopsecrets.org/rexroth/cr/1.htm</td>\n",
       "      <td>benign</td>\n",
       "      <td>0</td>\n",
       "      <td>31</td>\n",
       "      <td>bopsecrets.org</td>\n",
       "    </tr>\n",
       "    <tr>\n",
       "      <th>3</th>\n",
       "      <td>http://garage-pirenne.be/index.php?option=com_...</td>\n",
       "      <td>defacement</td>\n",
       "      <td>1</td>\n",
       "      <td>84</td>\n",
       "      <td>garage-pirenne.be</td>\n",
       "    </tr>\n",
       "    <tr>\n",
       "      <th>4</th>\n",
       "      <td>http://adventure-nicaragua.net/index.php?optio...</td>\n",
       "      <td>defacement</td>\n",
       "      <td>1</td>\n",
       "      <td>235</td>\n",
       "      <td>adventure-nicaragua.net</td>\n",
       "    </tr>\n",
       "  </tbody>\n",
       "</table>\n",
       "</div>"
      ],
      "text/plain": [
       "                                                 url        type  Category  \\\n",
       "0                                   br-icloud.com.br    phishing         2   \n",
       "1                mp3raid.com/music/krizz_kaliko.html      benign         0   \n",
       "2                    bopsecrets.org/rexroth/cr/1.htm      benign         0   \n",
       "3  http://garage-pirenne.be/index.php?option=com_...  defacement         1   \n",
       "4  http://adventure-nicaragua.net/index.php?optio...  defacement         1   \n",
       "\n",
       "   url_len                   domain  \n",
       "0       16         br-icloud.com.br  \n",
       "1       35              mp3raid.com  \n",
       "2       31           bopsecrets.org  \n",
       "3       84        garage-pirenne.be  \n",
       "4      235  adventure-nicaragua.net  "
      ]
     },
     "execution_count": 14,
     "metadata": {},
     "output_type": "execute_result"
    }
   ],
   "source": [
    "data.head()"
   ]
  },
  {
   "cell_type": "code",
   "execution_count": 15,
   "id": "3152fc8b",
   "metadata": {
    "execution": {
     "iopub.execute_input": "2025-03-08T17:11:11.846765Z",
     "iopub.status.busy": "2025-03-08T17:11:11.846084Z",
     "iopub.status.idle": "2025-03-08T17:11:16.770289Z",
     "shell.execute_reply": "2025-03-08T17:11:16.769559Z",
     "shell.execute_reply.started": "2022-01-24T13:41:14.099787Z"
    },
    "papermill": {
     "duration": 4.980747,
     "end_time": "2025-03-08T17:11:16.770430",
     "exception": false,
     "start_time": "2025-03-08T17:11:11.789683",
     "status": "completed"
    },
    "tags": []
   },
   "outputs": [],
   "source": [
    "feature = ['@','?','-','=','.','#','%','+','$','!','*',',','//']\n",
    "for a in feature:\n",
    "    data[a] = data['url'].apply(lambda i: i.count(a))"
   ]
  },
  {
   "cell_type": "code",
   "execution_count": 16,
   "id": "a8d7ae09",
   "metadata": {
    "execution": {
     "iopub.execute_input": "2025-03-08T17:11:16.866266Z",
     "iopub.status.busy": "2025-03-08T17:11:16.859709Z",
     "iopub.status.idle": "2025-03-08T17:11:16.870317Z",
     "shell.execute_reply": "2025-03-08T17:11:16.870828Z",
     "shell.execute_reply.started": "2022-01-24T13:41:18.615675Z"
    },
    "papermill": {
     "duration": 0.061903,
     "end_time": "2025-03-08T17:11:16.871065",
     "exception": false,
     "start_time": "2025-03-08T17:11:16.809162",
     "status": "completed"
    },
    "tags": []
   },
   "outputs": [
    {
     "data": {
      "text/html": [
       "<div>\n",
       "<style scoped>\n",
       "    .dataframe tbody tr th:only-of-type {\n",
       "        vertical-align: middle;\n",
       "    }\n",
       "\n",
       "    .dataframe tbody tr th {\n",
       "        vertical-align: top;\n",
       "    }\n",
       "\n",
       "    .dataframe thead th {\n",
       "        text-align: right;\n",
       "    }\n",
       "</style>\n",
       "<table border=\"1\" class=\"dataframe\">\n",
       "  <thead>\n",
       "    <tr style=\"text-align: right;\">\n",
       "      <th></th>\n",
       "      <th>url</th>\n",
       "      <th>type</th>\n",
       "      <th>Category</th>\n",
       "      <th>url_len</th>\n",
       "      <th>domain</th>\n",
       "      <th>@</th>\n",
       "      <th>?</th>\n",
       "      <th>-</th>\n",
       "      <th>=</th>\n",
       "      <th>.</th>\n",
       "      <th>#</th>\n",
       "      <th>%</th>\n",
       "      <th>+</th>\n",
       "      <th>$</th>\n",
       "      <th>!</th>\n",
       "      <th>*</th>\n",
       "      <th>,</th>\n",
       "      <th>//</th>\n",
       "    </tr>\n",
       "  </thead>\n",
       "  <tbody>\n",
       "    <tr>\n",
       "      <th>0</th>\n",
       "      <td>br-icloud.com.br</td>\n",
       "      <td>phishing</td>\n",
       "      <td>2</td>\n",
       "      <td>16</td>\n",
       "      <td>br-icloud.com.br</td>\n",
       "      <td>0</td>\n",
       "      <td>0</td>\n",
       "      <td>1</td>\n",
       "      <td>0</td>\n",
       "      <td>2</td>\n",
       "      <td>0</td>\n",
       "      <td>0</td>\n",
       "      <td>0</td>\n",
       "      <td>0</td>\n",
       "      <td>0</td>\n",
       "      <td>0</td>\n",
       "      <td>0</td>\n",
       "      <td>0</td>\n",
       "    </tr>\n",
       "    <tr>\n",
       "      <th>1</th>\n",
       "      <td>mp3raid.com/music/krizz_kaliko.html</td>\n",
       "      <td>benign</td>\n",
       "      <td>0</td>\n",
       "      <td>35</td>\n",
       "      <td>mp3raid.com</td>\n",
       "      <td>0</td>\n",
       "      <td>0</td>\n",
       "      <td>0</td>\n",
       "      <td>0</td>\n",
       "      <td>2</td>\n",
       "      <td>0</td>\n",
       "      <td>0</td>\n",
       "      <td>0</td>\n",
       "      <td>0</td>\n",
       "      <td>0</td>\n",
       "      <td>0</td>\n",
       "      <td>0</td>\n",
       "      <td>0</td>\n",
       "    </tr>\n",
       "    <tr>\n",
       "      <th>2</th>\n",
       "      <td>bopsecrets.org/rexroth/cr/1.htm</td>\n",
       "      <td>benign</td>\n",
       "      <td>0</td>\n",
       "      <td>31</td>\n",
       "      <td>bopsecrets.org</td>\n",
       "      <td>0</td>\n",
       "      <td>0</td>\n",
       "      <td>0</td>\n",
       "      <td>0</td>\n",
       "      <td>2</td>\n",
       "      <td>0</td>\n",
       "      <td>0</td>\n",
       "      <td>0</td>\n",
       "      <td>0</td>\n",
       "      <td>0</td>\n",
       "      <td>0</td>\n",
       "      <td>0</td>\n",
       "      <td>0</td>\n",
       "    </tr>\n",
       "    <tr>\n",
       "      <th>3</th>\n",
       "      <td>http://garage-pirenne.be/index.php?option=com_...</td>\n",
       "      <td>defacement</td>\n",
       "      <td>1</td>\n",
       "      <td>84</td>\n",
       "      <td>garage-pirenne.be</td>\n",
       "      <td>0</td>\n",
       "      <td>1</td>\n",
       "      <td>1</td>\n",
       "      <td>4</td>\n",
       "      <td>2</td>\n",
       "      <td>0</td>\n",
       "      <td>0</td>\n",
       "      <td>0</td>\n",
       "      <td>0</td>\n",
       "      <td>0</td>\n",
       "      <td>0</td>\n",
       "      <td>0</td>\n",
       "      <td>1</td>\n",
       "    </tr>\n",
       "    <tr>\n",
       "      <th>4</th>\n",
       "      <td>http://adventure-nicaragua.net/index.php?optio...</td>\n",
       "      <td>defacement</td>\n",
       "      <td>1</td>\n",
       "      <td>235</td>\n",
       "      <td>adventure-nicaragua.net</td>\n",
       "      <td>0</td>\n",
       "      <td>1</td>\n",
       "      <td>1</td>\n",
       "      <td>3</td>\n",
       "      <td>2</td>\n",
       "      <td>0</td>\n",
       "      <td>0</td>\n",
       "      <td>0</td>\n",
       "      <td>0</td>\n",
       "      <td>0</td>\n",
       "      <td>0</td>\n",
       "      <td>0</td>\n",
       "      <td>1</td>\n",
       "    </tr>\n",
       "  </tbody>\n",
       "</table>\n",
       "</div>"
      ],
      "text/plain": [
       "                                                 url        type  Category  \\\n",
       "0                                   br-icloud.com.br    phishing         2   \n",
       "1                mp3raid.com/music/krizz_kaliko.html      benign         0   \n",
       "2                    bopsecrets.org/rexroth/cr/1.htm      benign         0   \n",
       "3  http://garage-pirenne.be/index.php?option=com_...  defacement         1   \n",
       "4  http://adventure-nicaragua.net/index.php?optio...  defacement         1   \n",
       "\n",
       "   url_len                   domain  @  ?  -  =  .  #  %  +  $  !  *  ,  //  \n",
       "0       16         br-icloud.com.br  0  0  1  0  2  0  0  0  0  0  0  0   0  \n",
       "1       35              mp3raid.com  0  0  0  0  2  0  0  0  0  0  0  0   0  \n",
       "2       31           bopsecrets.org  0  0  0  0  2  0  0  0  0  0  0  0   0  \n",
       "3       84        garage-pirenne.be  0  1  1  4  2  0  0  0  0  0  0  0   1  \n",
       "4      235  adventure-nicaragua.net  0  1  1  3  2  0  0  0  0  0  0  0   1  "
      ]
     },
     "execution_count": 16,
     "metadata": {},
     "output_type": "execute_result"
    }
   ],
   "source": [
    "data.head()"
   ]
  },
  {
   "cell_type": "code",
   "execution_count": 17,
   "id": "b8eb7a3c",
   "metadata": {
    "execution": {
     "iopub.execute_input": "2025-03-08T17:11:16.957543Z",
     "iopub.status.busy": "2025-03-08T17:11:16.956897Z",
     "iopub.status.idle": "2025-03-08T17:11:16.959201Z",
     "shell.execute_reply": "2025-03-08T17:11:16.959678Z",
     "shell.execute_reply.started": "2022-01-24T13:41:18.633983Z"
    },
    "papermill": {
     "duration": 0.049092,
     "end_time": "2025-03-08T17:11:16.959863",
     "exception": false,
     "start_time": "2025-03-08T17:11:16.910771",
     "status": "completed"
    },
    "tags": []
   },
   "outputs": [],
   "source": [
    "def abnormal_url(url):\n",
    "    hostname = urlparse(url).hostname\n",
    "    hostname = str(hostname)\n",
    "    match = re.search(hostname, url)\n",
    "    if match:\n",
    "        # print match.group()\n",
    "        return 1\n",
    "    else:\n",
    "        # print 'No matching pattern found'\n",
    "        return 0"
   ]
  },
  {
   "cell_type": "code",
   "execution_count": 18,
   "id": "5bbcc4b1",
   "metadata": {
    "execution": {
     "iopub.execute_input": "2025-03-08T17:11:17.093445Z",
     "iopub.status.busy": "2025-03-08T17:11:17.040312Z",
     "iopub.status.idle": "2025-03-08T17:11:30.451962Z",
     "shell.execute_reply": "2025-03-08T17:11:30.451389Z",
     "shell.execute_reply.started": "2022-01-24T13:41:18.643348Z"
    },
    "papermill": {
     "duration": 13.455783,
     "end_time": "2025-03-08T17:11:30.452124",
     "exception": false,
     "start_time": "2025-03-08T17:11:16.996341",
     "status": "completed"
    },
    "tags": []
   },
   "outputs": [],
   "source": [
    "data['abnormal_url'] = data['url'].apply(lambda i: abnormal_url(i))"
   ]
  },
  {
   "cell_type": "code",
   "execution_count": 19,
   "id": "be59df4c",
   "metadata": {
    "execution": {
     "iopub.execute_input": "2025-03-08T17:11:30.536605Z",
     "iopub.status.busy": "2025-03-08T17:11:30.535462Z",
     "iopub.status.idle": "2025-03-08T17:11:30.748266Z",
     "shell.execute_reply": "2025-03-08T17:11:30.747538Z",
     "shell.execute_reply.started": "2022-01-24T13:41:31.791869Z"
    },
    "papermill": {
     "duration": 0.258895,
     "end_time": "2025-03-08T17:11:30.748411",
     "exception": false,
     "start_time": "2025-03-08T17:11:30.489516",
     "status": "completed"
    },
    "tags": []
   },
   "outputs": [
    {
     "data": {
      "image/png": "[encoded data removed]",
      "text/plain": [
       "<Figure size 432x288 with 1 Axes>"
      ]
     },
     "metadata": {
      "needs_background": "light"
     },
     "output_type": "display_data"
    }
   ],
   "source": [
    "sns.countplot(x='abnormal_url', data=data);"
   ]
  },
  {
   "cell_type": "code",
   "execution_count": 20,
   "id": "3a37f440",
   "metadata": {
    "execution": {
     "iopub.execute_input": "2025-03-08T17:11:30.830426Z",
     "iopub.status.busy": "2025-03-08T17:11:30.829339Z",
     "iopub.status.idle": "2025-03-08T17:11:30.832243Z",
     "shell.execute_reply": "2025-03-08T17:11:30.831558Z",
     "shell.execute_reply.started": "2022-01-24T13:41:32.01619Z"
    },
    "papermill": {
     "duration": 0.046163,
     "end_time": "2025-03-08T17:11:30.832389",
     "exception": false,
     "start_time": "2025-03-08T17:11:30.786226",
     "status": "completed"
    },
    "tags": []
   },
   "outputs": [],
   "source": [
    "def httpSecure(url):\n",
    "    htp = urlparse(url).scheme\n",
    "    match = str(htp)\n",
    "    if match=='https':\n",
    "        # print match.group()\n",
    "        return 1\n",
    "    else:\n",
    "        # print 'No matching pattern found'\n",
    "        return 0"
   ]
  },
  {
   "cell_type": "code",
   "execution_count": 21,
   "id": "750d0635",
   "metadata": {
    "execution": {
     "iopub.execute_input": "2025-03-08T17:11:30.913106Z",
     "iopub.status.busy": "2025-03-08T17:11:30.912367Z",
     "iopub.status.idle": "2025-03-08T17:11:35.077863Z",
     "shell.execute_reply": "2025-03-08T17:11:35.077172Z",
     "shell.execute_reply.started": "2022-01-24T13:41:32.024127Z"
    },
    "papermill": {
     "duration": 4.207518,
     "end_time": "2025-03-08T17:11:35.078025",
     "exception": false,
     "start_time": "2025-03-08T17:11:30.870507",
     "status": "completed"
    },
    "tags": []
   },
   "outputs": [],
   "source": [
    "data['https'] = data['url'].apply(lambda i: httpSecure(i))"
   ]
  },
  {
   "cell_type": "code",
   "execution_count": 22,
   "id": "6225150c",
   "metadata": {
    "execution": {
     "iopub.execute_input": "2025-03-08T17:11:35.159337Z",
     "iopub.status.busy": "2025-03-08T17:11:35.158635Z",
     "iopub.status.idle": "2025-03-08T17:11:35.373422Z",
     "shell.execute_reply": "2025-03-08T17:11:35.372805Z",
     "shell.execute_reply.started": "2022-01-24T13:41:36.148291Z"
    },
    "papermill": {
     "duration": 0.257962,
     "end_time": "2025-03-08T17:11:35.373582",
     "exception": false,
     "start_time": "2025-03-08T17:11:35.115620",
     "status": "completed"
    },
    "tags": []
   },
   "outputs": [
    {
     "data": {
      "image/png": "[encoded data removed]",
      "text/plain": [
       "<Figure size 432x288 with 1 Axes>"
      ]
     },
     "metadata": {
      "needs_background": "light"
     },
     "output_type": "display_data"
    }
   ],
   "source": [
    "sns.countplot(x='https', data=data);"
   ]
  },
  {
   "cell_type": "markdown",
   "id": "edd30bb6",
   "metadata": {
    "papermill": {
     "duration": 0.037818,
     "end_time": "2025-03-08T17:11:35.449852",
     "exception": false,
     "start_time": "2025-03-08T17:11:35.412034",
     "status": "completed"
    },
    "tags": []
   },
   "source": [
    "<h4>Counts the number of digit characters in a URL</h4>"
   ]
  },
  {
   "cell_type": "code",
   "execution_count": 23,
   "id": "0ad6cc4c",
   "metadata": {
    "execution": {
     "iopub.execute_input": "2025-03-08T17:11:35.534025Z",
     "iopub.status.busy": "2025-03-08T17:11:35.532559Z",
     "iopub.status.idle": "2025-03-08T17:11:35.535650Z",
     "shell.execute_reply": "2025-03-08T17:11:35.535024Z",
     "shell.execute_reply.started": "2022-01-24T13:41:36.376923Z"
    },
    "papermill": {
     "duration": 0.047588,
     "end_time": "2025-03-08T17:11:35.535804",
     "exception": false,
     "start_time": "2025-03-08T17:11:35.488216",
     "status": "completed"
    },
    "tags": []
   },
   "outputs": [],
   "source": [
    "def digit_count(url):\n",
    "    digits = 0\n",
    "    for i in url:\n",
    "        if i.isnumeric():\n",
    "            digits = digits + 1\n",
    "    return digits"
   ]
  },
  {
   "cell_type": "code",
   "execution_count": 24,
   "id": "dc9c9833",
   "metadata": {
    "execution": {
     "iopub.execute_input": "2025-03-08T17:11:35.618044Z",
     "iopub.status.busy": "2025-03-08T17:11:35.617310Z",
     "iopub.status.idle": "2025-03-08T17:11:38.251037Z",
     "shell.execute_reply": "2025-03-08T17:11:38.251548Z",
     "shell.execute_reply.started": "2022-01-24T13:41:36.384465Z"
    },
    "papermill": {
     "duration": 2.677849,
     "end_time": "2025-03-08T17:11:38.251771",
     "exception": false,
     "start_time": "2025-03-08T17:11:35.573922",
     "status": "completed"
    },
    "tags": []
   },
   "outputs": [],
   "source": [
    "data['digits']= data['url'].apply(lambda i: digit_count(i))"
   ]
  },
  {
   "cell_type": "markdown",
   "id": "4d58c5a9",
   "metadata": {
    "papermill": {
     "duration": 0.040681,
     "end_time": "2025-03-08T17:11:38.330754",
     "exception": false,
     "start_time": "2025-03-08T17:11:38.290073",
     "status": "completed"
    },
    "tags": []
   },
   "source": [
    "<h4>Counts the number of letter characters in a URL</h4>"
   ]
  },
  {
   "cell_type": "code",
   "execution_count": 25,
   "id": "b10df2c4",
   "metadata": {
    "execution": {
     "iopub.execute_input": "2025-03-08T17:11:38.414680Z",
     "iopub.status.busy": "2025-03-08T17:11:38.413324Z",
     "iopub.status.idle": "2025-03-08T17:11:38.417259Z",
     "shell.execute_reply": "2025-03-08T17:11:38.416717Z",
     "shell.execute_reply.started": "2022-01-24T13:41:38.900877Z"
    },
    "papermill": {
     "duration": 0.047711,
     "end_time": "2025-03-08T17:11:38.417411",
     "exception": false,
     "start_time": "2025-03-08T17:11:38.369700",
     "status": "completed"
    },
    "tags": []
   },
   "outputs": [],
   "source": [
    "def letter_count(url):\n",
    "    letters = 0\n",
    "    for i in url:\n",
    "        if i.isalpha():\n",
    "            letters = letters + 1\n",
    "    return letters"
   ]
  },
  {
   "cell_type": "code",
   "execution_count": 26,
   "id": "3b5909ef",
   "metadata": {
    "execution": {
     "iopub.execute_input": "2025-03-08T17:11:38.517460Z",
     "iopub.status.busy": "2025-03-08T17:11:38.501155Z",
     "iopub.status.idle": "2025-03-08T17:11:41.873828Z",
     "shell.execute_reply": "2025-03-08T17:11:41.873293Z",
     "shell.execute_reply.started": "2022-01-24T13:41:38.907948Z"
    },
    "papermill": {
     "duration": 3.416091,
     "end_time": "2025-03-08T17:11:41.873996",
     "exception": false,
     "start_time": "2025-03-08T17:11:38.457905",
     "status": "completed"
    },
    "tags": []
   },
   "outputs": [],
   "source": [
    "data['letters']= data['url'].apply(lambda i: letter_count(i))"
   ]
  },
  {
   "cell_type": "markdown",
   "id": "ff494547",
   "metadata": {
    "papermill": {
     "duration": 0.038975,
     "end_time": "2025-03-08T17:11:41.953713",
     "exception": false,
     "start_time": "2025-03-08T17:11:41.914738",
     "status": "completed"
    },
    "tags": []
   },
   "source": [
    "<h4>Checks to see whether URL contains a shortening service</h4>"
   ]
  },
  {
   "cell_type": "code",
   "execution_count": 27,
   "id": "9c075291",
   "metadata": {
    "execution": {
     "iopub.execute_input": "2025-03-08T17:11:42.038175Z",
     "iopub.status.busy": "2025-03-08T17:11:42.037119Z",
     "iopub.status.idle": "2025-03-08T17:11:42.039978Z",
     "shell.execute_reply": "2025-03-08T17:11:42.039469Z",
     "shell.execute_reply.started": "2022-01-24T13:41:42.056007Z"
    },
    "papermill": {
     "duration": 0.048513,
     "end_time": "2025-03-08T17:11:42.040130",
     "exception": false,
     "start_time": "2025-03-08T17:11:41.991617",
     "status": "completed"
    },
    "tags": []
   },
   "outputs": [],
   "source": [
    "def Shortining_Service(url):\n",
    "    match = re.search('bit\\.ly|goo\\.gl|shorte\\.st|go2l\\.ink|x\\.co|ow\\.ly|t\\.co|tinyurl|tr\\.im|is\\.gd|cli\\.gs|'\n",
    "                      'yfrog\\.com|migre\\.me|ff\\.im|tiny\\.cc|url4\\.eu|twit\\.ac|su\\.pr|twurl\\.nl|snipurl\\.com|'\n",
    "                      'short\\.to|BudURL\\.com|ping\\.fm|post\\.ly|Just\\.as|bkite\\.com|snipr\\.com|fic\\.kr|loopt\\.us|'\n",
    "                      'doiop\\.com|short\\.ie|kl\\.am|wp\\.me|rubyurl\\.com|om\\.ly|to\\.ly|bit\\.do|t\\.co|lnkd\\.in|'\n",
    "                      'db\\.tt|qr\\.ae|adf\\.ly|goo\\.gl|bitly\\.com|cur\\.lv|tinyurl\\.com|ow\\.ly|bit\\.ly|ity\\.im|'\n",
    "                      'q\\.gs|is\\.gd|po\\.st|bc\\.vc|twitthis\\.com|u\\.to|j\\.mp|buzurl\\.com|cutt\\.us|u\\.bb|yourls\\.org|'\n",
    "                      'x\\.co|prettylinkpro\\.com|scrnch\\.me|filoops\\.info|vzturl\\.com|qr\\.net|1url\\.com|tweez\\.me|v\\.gd|'\n",
    "                      'tr\\.im|link\\.zip\\.net',\n",
    "                      url)\n",
    "    if match:\n",
    "        return 1\n",
    "    else:\n",
    "        return 0"
   ]
  },
  {
   "cell_type": "code",
   "execution_count": 28,
   "id": "14dc1795",
   "metadata": {
    "execution": {
     "iopub.execute_input": "2025-03-08T17:11:42.147230Z",
     "iopub.status.busy": "2025-03-08T17:11:42.146371Z",
     "iopub.status.idle": "2025-03-08T17:11:49.566827Z",
     "shell.execute_reply": "2025-03-08T17:11:49.566166Z",
     "shell.execute_reply.started": "2022-01-24T13:41:42.065611Z"
    },
    "papermill": {
     "duration": 7.486208,
     "end_time": "2025-03-08T17:11:49.566989",
     "exception": false,
     "start_time": "2025-03-08T17:11:42.080781",
     "status": "completed"
    },
    "tags": []
   },
   "outputs": [],
   "source": [
    "data['Shortining_Service'] = data['url'].apply(lambda x: Shortining_Service(x))"
   ]
  },
  {
   "cell_type": "code",
   "execution_count": 29,
   "id": "30e8eb75",
   "metadata": {
    "execution": {
     "iopub.execute_input": "2025-03-08T17:11:49.651749Z",
     "iopub.status.busy": "2025-03-08T17:11:49.650671Z",
     "iopub.status.idle": "2025-03-08T17:11:49.865790Z",
     "shell.execute_reply": "2025-03-08T17:11:49.865283Z",
     "shell.execute_reply.started": "2022-01-24T13:41:49.49221Z"
    },
    "papermill": {
     "duration": 0.26041,
     "end_time": "2025-03-08T17:11:49.865940",
     "exception": false,
     "start_time": "2025-03-08T17:11:49.605530",
     "status": "completed"
    },
    "tags": []
   },
   "outputs": [
    {
     "data": {
      "image/png": "[encoded data removed]",
      "text/plain": [
       "<Figure size 432x288 with 1 Axes>"
      ]
     },
     "metadata": {
      "needs_background": "light"
     },
     "output_type": "display_data"
    }
   ],
   "source": [
    "sns.countplot(x='Shortining_Service', data=data);"
   ]
  },
  {
   "cell_type": "code",
   "execution_count": 30,
   "id": "c4b74dc6",
   "metadata": {
    "execution": {
     "iopub.execute_input": "2025-03-08T17:11:49.951832Z",
     "iopub.status.busy": "2025-03-08T17:11:49.951131Z",
     "iopub.status.idle": "2025-03-08T17:11:49.953515Z",
     "shell.execute_reply": "2025-03-08T17:11:49.954002Z",
     "shell.execute_reply.started": "2022-01-24T13:41:49.733529Z"
    },
    "papermill": {
     "duration": 0.04912,
     "end_time": "2025-03-08T17:11:49.954179",
     "exception": false,
     "start_time": "2025-03-08T17:11:49.905059",
     "status": "completed"
    },
    "tags": []
   },
   "outputs": [],
   "source": [
    "def having_ip_address(url):\n",
    "    match = re.search(\n",
    "        '(([01]?\\\\d\\\\d?|2[0-4]\\\\d|25[0-5])\\\\.([01]?\\\\d\\\\d?|2[0-4]\\\\d|25[0-5])\\\\.([01]?\\\\d\\\\d?|2[0-4]\\\\d|25[0-5])\\\\.'\n",
    "        '([01]?\\\\d\\\\d?|2[0-4]\\\\d|25[0-5])\\\\/)|'  # IPv4\n",
    "        '(([01]?\\\\d\\\\d?|2[0-4]\\\\d|25[0-5])\\\\.([01]?\\\\d\\\\d?|2[0-4]\\\\d|25[0-5])\\\\.([01]?\\\\d\\\\d?|2[0-4]\\\\d|25[0-5])\\\\.'\n",
    "        '([01]?\\\\d\\\\d?|2[0-4]\\\\d|25[0-5])\\\\/)|'  # IPv4 with port\n",
    "        '((0x[0-9a-fA-F]{1,2})\\\\.(0x[0-9a-fA-F]{1,2})\\\\.(0x[0-9a-fA-F]{1,2})\\\\.(0x[0-9a-fA-F]{1,2})\\\\/)' # IPv4 in hexadecimal\n",
    "        '(?:[a-fA-F0-9]{1,4}:){7}[a-fA-F0-9]{1,4}|'\n",
    "        '([0-9]+(?:\\.[0-9]+){3}:[0-9]+)|'\n",
    "        '((?:(?:\\d|[01]?\\d\\d|2[0-4]\\d|25[0-5])\\.){3}(?:25[0-5]|2[0-4]\\d|[01]?\\d\\d|\\d)(?:\\/\\d{1,2})?)', url)  # Ipv6\n",
    "    if match:\n",
    "        return 1\n",
    "    else:\n",
    "        return 0"
   ]
  },
  {
   "cell_type": "code",
   "execution_count": 31,
   "id": "502437f9",
   "metadata": {
    "execution": {
     "iopub.execute_input": "2025-03-08T17:11:50.038876Z",
     "iopub.status.busy": "2025-03-08T17:11:50.038250Z",
     "iopub.status.idle": "2025-03-08T17:12:04.166107Z",
     "shell.execute_reply": "2025-03-08T17:12:04.165425Z",
     "shell.execute_reply.started": "2022-01-24T13:41:49.741747Z"
    },
    "papermill": {
     "duration": 14.172409,
     "end_time": "2025-03-08T17:12:04.166256",
     "exception": false,
     "start_time": "2025-03-08T17:11:49.993847",
     "status": "completed"
    },
    "tags": []
   },
   "outputs": [],
   "source": [
    "data['having_ip_address'] = data['url'].apply(lambda i: having_ip_address(i))"
   ]
  },
  {
   "cell_type": "code",
   "execution_count": 32,
   "id": "2a5b1db8",
   "metadata": {
    "execution": {
     "iopub.execute_input": "2025-03-08T17:12:04.258540Z",
     "iopub.status.busy": "2025-03-08T17:12:04.257811Z",
     "iopub.status.idle": "2025-03-08T17:12:04.261785Z",
     "shell.execute_reply": "2025-03-08T17:12:04.261212Z",
     "shell.execute_reply.started": "2022-01-24T13:42:03.512143Z"
    },
    "papermill": {
     "duration": 0.055791,
     "end_time": "2025-03-08T17:12:04.261931",
     "exception": false,
     "start_time": "2025-03-08T17:12:04.206140",
     "status": "completed"
    },
    "tags": []
   },
   "outputs": [
    {
     "data": {
      "text/plain": [
       "0    638703\n",
       "1     12488\n",
       "Name: having_ip_address, dtype: int64"
      ]
     },
     "execution_count": 32,
     "metadata": {},
     "output_type": "execute_result"
    }
   ],
   "source": [
    "data['having_ip_address'].value_counts()"
   ]
  },
  {
   "cell_type": "code",
   "execution_count": 33,
   "id": "036c5191",
   "metadata": {
    "execution": {
     "iopub.execute_input": "2025-03-08T17:12:04.351964Z",
     "iopub.status.busy": "2025-03-08T17:12:04.350291Z",
     "iopub.status.idle": "2025-03-08T17:12:06.065533Z",
     "shell.execute_reply": "2025-03-08T17:12:06.064854Z",
     "shell.execute_reply.started": "2022-01-24T13:42:03.527958Z"
    },
    "papermill": {
     "duration": 1.764552,
     "end_time": "2025-03-08T17:12:06.065710",
     "exception": false,
     "start_time": "2025-03-08T17:12:04.301158",
     "status": "completed"
    },
    "tags": []
   },
   "outputs": [
    {
     "data": {
      "text/plain": [
       "<AxesSubplot:>"
      ]
     },
     "execution_count": 33,
     "metadata": {},
     "output_type": "execute_result"
    },
    {
     "data": {
      "image/png": "[encoded data removed]",
      "text/plain": [
       "<Figure size 1080x1080 with 2 Axes>"
      ]
     },
     "metadata": {
      "needs_background": "light"
     },
     "output_type": "display_data"
    }
   ],
   "source": [
    "plt.figure(figsize=(15, 15))\n",
    "sns.heatmap(data.corr(), linewidths=.5)"
   ]
  },
  {
   "cell_type": "code",
   "execution_count": 34,
   "id": "274563b0",
   "metadata": {
    "execution": {
     "iopub.execute_input": "2025-03-08T17:12:06.155081Z",
     "iopub.status.busy": "2025-03-08T17:12:06.154284Z",
     "iopub.status.idle": "2025-03-08T17:12:06.335181Z",
     "shell.execute_reply": "2025-03-08T17:12:06.335638Z",
     "shell.execute_reply.started": "2022-01-24T13:42:05.197892Z"
    },
    "papermill": {
     "duration": 0.228667,
     "end_time": "2025-03-08T17:12:06.335829",
     "exception": false,
     "start_time": "2025-03-08T17:12:06.107162",
     "status": "completed"
    },
    "tags": []
   },
   "outputs": [],
   "source": [
    "X = data.drop(['url','type','Category','domain'],axis=1)#,'type_code'\n",
    "y = data['Category']"
   ]
  },
  {
   "cell_type": "markdown",
   "id": "375a679e",
   "metadata": {
    "papermill": {
     "duration": 0.041944,
     "end_time": "2025-03-08T17:12:06.419372",
     "exception": false,
     "start_time": "2025-03-08T17:12:06.377428",
     "status": "completed"
    },
    "tags": []
   },
   "source": [
    "<a id=\"6\"></a> <br>\n",
    "# ✂️ Train & Test Split"
   ]
  },
  {
   "cell_type": "code",
   "execution_count": 35,
   "id": "14cad542",
   "metadata": {
    "execution": {
     "iopub.execute_input": "2025-03-08T17:12:06.511242Z",
     "iopub.status.busy": "2025-03-08T17:12:06.509019Z",
     "iopub.status.idle": "2025-03-08T17:12:06.700968Z",
     "shell.execute_reply": "2025-03-08T17:12:06.700417Z",
     "shell.execute_reply.started": "2022-01-24T13:42:05.385665Z"
    },
    "papermill": {
     "duration": 0.238806,
     "end_time": "2025-03-08T17:12:06.701122",
     "exception": false,
     "start_time": "2025-03-08T17:12:06.462316",
     "status": "completed"
    },
    "tags": []
   },
   "outputs": [],
   "source": [
    "X_train, X_test, y_train, y_test = train_test_split(X, y, test_size=0.2, random_state=2)"
   ]
  },
  {
   "cell_type": "markdown",
   "id": "3d288461",
   "metadata": {
    "papermill": {
     "duration": 0.041017,
     "end_time": "2025-03-08T17:12:06.784239",
     "exception": false,
     "start_time": "2025-03-08T17:12:06.743222",
     "status": "completed"
    },
    "tags": []
   },
   "source": [
    "<a id=\"7\"></a> <br>\n",
    "# <img src=\"https://cdn-icons-png.flaticon.com/32/4149/4149680.png\"/> Training models"
   ]
  },
  {
   "cell_type": "code",
   "execution_count": 36,
   "id": "3807e676",
   "metadata": {
    "execution": {
     "iopub.execute_input": "2025-03-08T17:12:06.871517Z",
     "iopub.status.busy": "2025-03-08T17:12:06.870514Z",
     "iopub.status.idle": "2025-03-08T17:12:06.873310Z",
     "shell.execute_reply": "2025-03-08T17:12:06.872730Z",
     "shell.execute_reply.started": "2022-01-24T13:42:05.598591Z"
    },
    "papermill": {
     "duration": 0.047714,
     "end_time": "2025-03-08T17:12:06.873461",
     "exception": false,
     "start_time": "2025-03-08T17:12:06.825747",
     "status": "completed"
    },
    "tags": []
   },
   "outputs": [],
   "source": [
    "from sklearn.metrics import plot_confusion_matrix\n",
    "from sklearn.metrics import plot_roc_curve"
   ]
  },
  {
   "cell_type": "code",
   "execution_count": 37,
   "id": "c8607526",
   "metadata": {
    "execution": {
     "iopub.execute_input": "2025-03-08T17:12:06.962776Z",
     "iopub.status.busy": "2025-03-08T17:12:06.962044Z",
     "iopub.status.idle": "2025-03-08T17:16:45.537178Z",
     "shell.execute_reply": "2025-03-08T17:16:45.537691Z",
     "shell.execute_reply.started": "2022-01-24T14:16:12.894287Z"
    },
    "papermill": {
     "duration": 278.623988,
     "end_time": "2025-03-08T17:16:45.537899",
     "exception": false,
     "start_time": "2025-03-08T17:12:06.913911",
     "status": "completed"
    },
    "tags": []
   },
   "outputs": [
    {
     "name": "stdout",
     "output_type": "stream",
     "text": [
      "#############################################\n",
      "######-Model =>\u001b[07m <class 'sklearn.tree._classes.DecisionTreeClassifier'> \u001b[0m\n",
      "Test Accuracy :\u001b[32m \u001b[01m 90.94% \u001b[30m \u001b[0m\n",
      "\u001b[01m              Classification_report \u001b[0m\n",
      "              precision    recall  f1-score   support\n",
      "\n",
      "           0       0.92      0.97      0.94     85565\n",
      "           1       0.93      0.96      0.94     19319\n",
      "           2       0.80      0.57      0.66     18805\n",
      "           3       0.94      0.91      0.93      6550\n",
      "\n",
      "    accuracy                           0.91    130239\n",
      "   macro avg       0.90      0.85      0.87    130239\n",
      "weighted avg       0.90      0.91      0.90    130239\n",
      "\n",
      "\u001b[01m             Confusion_matrix \u001b[0m\n"
     ]
    },
    {
     "data": {
      "image/png": "[encoded data removed]",
      "text/plain": [
       "<Figure size 432x288 with 2 Axes>"
      ]
     },
     "metadata": {
      "needs_background": "light"
     },
     "output_type": "display_data"
    },
    {
     "name": "stdout",
     "output_type": "stream",
     "text": [
      "\u001b[31m###################- End -###################\u001b[0m\n",
      "#############################################\n",
      "######-Model =>\u001b[07m <class 'sklearn.ensemble._forest.RandomForestClassifier'> \u001b[0m\n",
      "Test Accuracy :\u001b[32m \u001b[01m 91.49% \u001b[30m \u001b[0m\n",
      "\u001b[01m              Classification_report \u001b[0m\n",
      "              precision    recall  f1-score   support\n",
      "\n",
      "           0       0.92      0.98      0.95     85565\n",
      "           1       0.94      0.97      0.95     19319\n",
      "           2       0.83      0.57      0.68     18805\n",
      "           3       0.96      0.91      0.94      6550\n",
      "\n",
      "    accuracy                           0.91    130239\n",
      "   macro avg       0.91      0.86      0.88    130239\n",
      "weighted avg       0.91      0.91      0.91    130239\n",
      "\n",
      "\u001b[01m             Confusion_matrix \u001b[0m\n"
     ]
    },
    {
     "data": {
      "image/png": "[encoded data removed]",
      "text/plain": [
       "<Figure size 432x288 with 2 Axes>"
      ]
     },
     "metadata": {
      "needs_background": "light"
     },
     "output_type": "display_data"
    },
    {
     "name": "stdout",
     "output_type": "stream",
     "text": [
      "\u001b[31m###################- End -###################\u001b[0m\n",
      "#############################################\n",
      "######-Model =>\u001b[07m <class 'sklearn.ensemble._weight_boosting.AdaBoostClassifier'> \u001b[0m\n",
      "Test Accuracy :\u001b[32m \u001b[01m 82.01% \u001b[30m \u001b[0m\n",
      "\u001b[01m              Classification_report \u001b[0m\n",
      "              precision    recall  f1-score   support\n",
      "\n",
      "           0       0.84      0.98      0.90     85565\n",
      "           1       0.82      0.89      0.85     19319\n",
      "           2       0.45      0.15      0.22     18805\n",
      "           3       0.91      0.46      0.61      6550\n",
      "\n",
      "    accuracy                           0.82    130239\n",
      "   macro avg       0.75      0.62      0.65    130239\n",
      "weighted avg       0.78      0.82      0.78    130239\n",
      "\n",
      "\u001b[01m             Confusion_matrix \u001b[0m\n"
     ]
    },
    {
     "data": {
      "image/png": "[encoded data removed]",
      "text/plain": [
       "<Figure size 432x288 with 2 Axes>"
      ]
     },
     "metadata": {
      "needs_background": "light"
     },
     "output_type": "display_data"
    },
    {
     "name": "stdout",
     "output_type": "stream",
     "text": [
      "\u001b[31m###################- End -###################\u001b[0m\n",
      "#############################################\n",
      "######-Model =>\u001b[07m <class 'sklearn.neighbors._classification.KNeighborsClassifier'> \u001b[0m\n",
      "Test Accuracy :\u001b[32m \u001b[01m 88.96% \u001b[30m \u001b[0m\n",
      "\u001b[01m              Classification_report \u001b[0m\n",
      "              precision    recall  f1-score   support\n",
      "\n",
      "           0       0.91      0.96      0.93     85565\n",
      "           1       0.89      0.95      0.92     19319\n",
      "           2       0.73      0.53      0.62     18805\n",
      "           3       0.94      0.87      0.91      6550\n",
      "\n",
      "    accuracy                           0.89    130239\n",
      "   macro avg       0.87      0.83      0.84    130239\n",
      "weighted avg       0.88      0.89      0.88    130239\n",
      "\n",
      "\u001b[01m             Confusion_matrix \u001b[0m\n"
     ]
    },
    {
     "data": {
      "image/png": "[encoded data removed]",
      "text/plain": [
       "<Figure size 432x288 with 2 Axes>"
      ]
     },
     "metadata": {
      "needs_background": "light"
     },
     "output_type": "display_data"
    },
    {
     "name": "stdout",
     "output_type": "stream",
     "text": [
      "\u001b[31m###################- End -###################\u001b[0m\n",
      "#############################################\n",
      "######-Model =>\u001b[07m <class 'sklearn.linear_model._stochastic_gradient.SGDClassifier'> \u001b[0m\n",
      "Test Accuracy :\u001b[32m \u001b[01m 81.48% \u001b[30m \u001b[0m\n",
      "\u001b[01m              Classification_report \u001b[0m\n",
      "              precision    recall  f1-score   support\n",
      "\n",
      "           0       0.84      0.97      0.90     85565\n",
      "           1       0.75      0.96      0.84     19319\n",
      "           2       0.83      0.01      0.01     18805\n",
      "           3       0.64      0.74      0.69      6550\n",
      "\n",
      "    accuracy                           0.81    130239\n",
      "   macro avg       0.77      0.67      0.61    130239\n",
      "weighted avg       0.82      0.81      0.75    130239\n",
      "\n",
      "\u001b[01m             Confusion_matrix \u001b[0m\n"
     ]
    },
    {
     "data": {
      "image/png": "[encoded data removed]",
      "text/plain": [
       "<Figure size 432x288 with 2 Axes>"
      ]
     },
     "metadata": {
      "needs_background": "light"
     },
     "output_type": "display_data"
    },
    {
     "name": "stdout",
     "output_type": "stream",
     "text": [
      "\u001b[31m###################- End -###################\u001b[0m\n",
      "#############################################\n",
      "######-Model =>\u001b[07m <class 'sklearn.ensemble._forest.ExtraTreesClassifier'> \u001b[0m\n",
      "Test Accuracy :\u001b[32m \u001b[01m 91.45% \u001b[30m \u001b[0m\n",
      "\u001b[01m              Classification_report \u001b[0m\n",
      "              precision    recall  f1-score   support\n",
      "\n",
      "           0       0.92      0.98      0.95     85565\n",
      "           1       0.93      0.97      0.95     19319\n",
      "           2       0.83      0.57      0.68     18805\n",
      "           3       0.97      0.91      0.94      6550\n",
      "\n",
      "    accuracy                           0.91    130239\n",
      "   macro avg       0.91      0.86      0.88    130239\n",
      "weighted avg       0.91      0.91      0.91    130239\n",
      "\n",
      "\u001b[01m             Confusion_matrix \u001b[0m\n"
     ]
    },
    {
     "data": {
      "image/png": "[encoded data removed]",
      "text/plain": [
       "<Figure size 432x288 with 2 Axes>"
      ]
     },
     "metadata": {
      "needs_background": "light"
     },
     "output_type": "display_data"
    },
    {
     "name": "stdout",
     "output_type": "stream",
     "text": [
      "\u001b[31m###################- End -###################\u001b[0m\n",
      "#############################################\n",
      "######-Model =>\u001b[07m <class 'sklearn.naive_bayes.GaussianNB'> \u001b[0m\n",
      "Test Accuracy :\u001b[32m \u001b[01m 78.95% \u001b[30m \u001b[0m\n",
      "\u001b[01m              Classification_report \u001b[0m\n",
      "              precision    recall  f1-score   support\n",
      "\n",
      "           0       0.85      0.92      0.88     85565\n",
      "           1       0.66      1.00      0.79     19319\n",
      "           2       0.60      0.02      0.04     18805\n",
      "           3       0.61      0.70      0.65      6550\n",
      "\n",
      "    accuracy                           0.79    130239\n",
      "   macro avg       0.68      0.66      0.59    130239\n",
      "weighted avg       0.77      0.79      0.74    130239\n",
      "\n",
      "\u001b[01m             Confusion_matrix \u001b[0m\n"
     ]
    },
    {
     "data": {
      "image/png": "[encoded data removed]",
      "text/plain": [
       "<Figure size 432x288 with 2 Axes>"
      ]
     },
     "metadata": {
      "needs_background": "light"
     },
     "output_type": "display_data"
    },
    {
     "name": "stdout",
     "output_type": "stream",
     "text": [
      "\u001b[31m###################- End -###################\u001b[0m\n"
     ]
    }
   ],
   "source": [
    "models = [DecisionTreeClassifier,RandomForestClassifier,AdaBoostClassifier,KNeighborsClassifier,SGDClassifier,\n",
    "         ExtraTreesClassifier,GaussianNB]\n",
    "accuracy_test=[]\n",
    "for m in models:\n",
    "    print('#############################################')\n",
    "    print('######-Model =>\\033[07m {} \\033[0m'.format(m))\n",
    "    model_ = m()\n",
    "    model_.fit(X_train, y_train)\n",
    "    pred = model_.predict(X_test)\n",
    "    acc = accuracy_score(pred, y_test)\n",
    "    accuracy_test.append(acc)\n",
    "    print('Test Accuracy :\\033[32m \\033[01m {:.2f}% \\033[30m \\033[0m'.format(acc*100))\n",
    "    print('\\033[01m              Classification_report \\033[0m')\n",
    "    print(classification_report(y_test, pred))\n",
    "    print('\\033[01m             Confusion_matrix \\033[0m')\n",
    "    cf_matrix = confusion_matrix(y_test, pred)\n",
    "    plot_ = sns.heatmap(cf_matrix/np.sum(cf_matrix), annot=True,fmt= '0.2%')\n",
    "    plt.show()\n",
    "    print('\\033[31m###################- End -###################\\033[0m')"
   ]
  },
  {
   "cell_type": "markdown",
   "id": "4ccd4f1c",
   "metadata": {
    "papermill": {
     "duration": 0.051969,
     "end_time": "2025-03-08T17:16:45.642271",
     "exception": false,
     "start_time": "2025-03-08T17:16:45.590302",
     "status": "completed"
    },
    "tags": []
   },
   "source": [
    "<a id=\"8\"></a> <br>\n",
    "# <img src=\"https://cdn-icons-png.flaticon.com/64/3094/3094836.png\"/> Final Report"
   ]
  },
  {
   "cell_type": "code",
   "execution_count": 38,
   "id": "72377f01",
   "metadata": {
    "execution": {
     "iopub.execute_input": "2025-03-08T17:16:45.755280Z",
     "iopub.status.busy": "2025-03-08T17:16:45.753876Z",
     "iopub.status.idle": "2025-03-08T17:16:45.756199Z",
     "shell.execute_reply": "2025-03-08T17:16:45.756703Z",
     "shell.execute_reply.started": "2022-01-24T13:46:35.736069Z"
    },
    "papermill": {
     "duration": 0.061212,
     "end_time": "2025-03-08T17:16:45.756887",
     "exception": false,
     "start_time": "2025-03-08T17:16:45.695675",
     "status": "completed"
    },
    "tags": []
   },
   "outputs": [],
   "source": [
    "output = pd.DataFrame({\"Model\":['Decision Tree Classifier','Random Forest Classifier',\n",
    "                                'AdaBoost Classifier','KNeighbors Classifier','SGD Classifier',\n",
    "                                'Extra Trees Classifier','Gaussian NB'],\n",
    "                      \"Accuracy\":accuracy_test})"
   ]
  },
  {
   "cell_type": "code",
   "execution_count": 39,
   "id": "2c7f114b",
   "metadata": {
    "execution": {
     "iopub.execute_input": "2025-03-08T17:16:45.872306Z",
     "iopub.status.busy": "2025-03-08T17:16:45.871457Z",
     "iopub.status.idle": "2025-03-08T17:16:45.874948Z",
     "shell.execute_reply": "2025-03-08T17:16:45.874441Z",
     "shell.execute_reply.started": "2022-01-24T13:46:35.743629Z"
    },
    "papermill": {
     "duration": 0.065479,
     "end_time": "2025-03-08T17:16:45.875088",
     "exception": false,
     "start_time": "2025-03-08T17:16:45.809609",
     "status": "completed"
    },
    "tags": []
   },
   "outputs": [
    {
     "data": {
      "text/html": [
       "<div>\n",
       "<style scoped>\n",
       "    .dataframe tbody tr th:only-of-type {\n",
       "        vertical-align: middle;\n",
       "    }\n",
       "\n",
       "    .dataframe tbody tr th {\n",
       "        vertical-align: top;\n",
       "    }\n",
       "\n",
       "    .dataframe thead th {\n",
       "        text-align: right;\n",
       "    }\n",
       "</style>\n",
       "<table border=\"1\" class=\"dataframe\">\n",
       "  <thead>\n",
       "    <tr style=\"text-align: right;\">\n",
       "      <th></th>\n",
       "      <th>Model</th>\n",
       "      <th>Accuracy</th>\n",
       "    </tr>\n",
       "  </thead>\n",
       "  <tbody>\n",
       "    <tr>\n",
       "      <th>0</th>\n",
       "      <td>Decision Tree Classifier</td>\n",
       "      <td>0.909367</td>\n",
       "    </tr>\n",
       "    <tr>\n",
       "      <th>1</th>\n",
       "      <td>Random Forest Classifier</td>\n",
       "      <td>0.914864</td>\n",
       "    </tr>\n",
       "    <tr>\n",
       "      <th>2</th>\n",
       "      <td>AdaBoost Classifier</td>\n",
       "      <td>0.820077</td>\n",
       "    </tr>\n",
       "    <tr>\n",
       "      <th>3</th>\n",
       "      <td>KNeighbors Classifier</td>\n",
       "      <td>0.889618</td>\n",
       "    </tr>\n",
       "    <tr>\n",
       "      <th>4</th>\n",
       "      <td>SGD Classifier</td>\n",
       "      <td>0.814779</td>\n",
       "    </tr>\n",
       "    <tr>\n",
       "      <th>5</th>\n",
       "      <td>Extra Trees Classifier</td>\n",
       "      <td>0.914549</td>\n",
       "    </tr>\n",
       "    <tr>\n",
       "      <th>6</th>\n",
       "      <td>Gaussian NB</td>\n",
       "      <td>0.789548</td>\n",
       "    </tr>\n",
       "  </tbody>\n",
       "</table>\n",
       "</div>"
      ],
      "text/plain": [
       "                      Model  Accuracy\n",
       "0  Decision Tree Classifier  0.909367\n",
       "1  Random Forest Classifier  0.914864\n",
       "2       AdaBoost Classifier  0.820077\n",
       "3     KNeighbors Classifier  0.889618\n",
       "4            SGD Classifier  0.814779\n",
       "5    Extra Trees Classifier  0.914549\n",
       "6               Gaussian NB  0.789548"
      ]
     },
     "execution_count": 39,
     "metadata": {},
     "output_type": "execute_result"
    }
   ],
   "source": [
    "output"
   ]
  },
  {
   "cell_type": "code",
   "execution_count": 40,
   "id": "19c8c2dc",
   "metadata": {
    "execution": {
     "iopub.execute_input": "2025-03-08T17:16:46.022238Z",
     "iopub.status.busy": "2025-03-08T17:16:46.009362Z",
     "iopub.status.idle": "2025-03-08T17:16:46.234997Z",
     "shell.execute_reply": "2025-03-08T17:16:46.235471Z",
     "shell.execute_reply.started": "2022-01-24T13:46:35.762946Z"
    },
    "papermill": {
     "duration": 0.307848,
     "end_time": "2025-03-08T17:16:46.235678",
     "exception": false,
     "start_time": "2025-03-08T17:16:45.927830",
     "status": "completed"
    },
    "tags": []
   },
   "outputs": [
    {
     "data": {
      "image/png": "[encoded data removed]",
      "text/plain": [
       "<Figure size 720x360 with 1 Axes>"
      ]
     },
     "metadata": {
      "needs_background": "light"
     },
     "output_type": "display_data"
    }
   ],
   "source": [
    "plt.figure(figsize=(10, 5))\n",
    "plots = sns.barplot(x='Model', y='Accuracy', data=output)\n",
    "for bar in plots.patches:\n",
    "    plots.annotate(format(bar.get_height(), '.2f'),\n",
    "                   (bar.get_x() + bar.get_width() / 2,\n",
    "                    bar.get_height()), ha='center', va='center',\n",
    "                   size=15, xytext=(0, 8),\n",
    "                   textcoords='offset points')\n",
    "\n",
    "plt.xlabel(\"Models\", size=14)\n",
    "plt.xticks(rotation=20);\n",
    "plt.ylabel(\"Accuracy\", size=14)\n",
    "plt.show()"
   ]
  },
  {
   "cell_type": "markdown",
   "id": "ba350ae0",
   "metadata": {
    "papermill": {
     "duration": 0.056984,
     "end_time": "2025-03-08T17:16:46.350857",
     "exception": false,
     "start_time": "2025-03-08T17:16:46.293873",
     "status": "completed"
    },
    "tags": []
   },
   "source": [
    "<a id=\"9\"></a> <br>\n",
    "# ✨ Thanks"
   ]
  },
  {
   "cell_type": "markdown",
   "id": "60703da9",
   "metadata": {
    "papermill": {
     "duration": 0.056308,
     "end_time": "2025-03-08T17:16:46.464513",
     "exception": false,
     "start_time": "2025-03-08T17:16:46.408205",
     "status": "completed"
    },
    "tags": []
   },
   "source": [
    "* Feel free to download Notebook and do experiments on it.\n",
    "* Comments if you find something inappropriate and will improve accordingly.\n",
    "* Upvote if you find this notebook useful."
   ]
  }
 ],
 "metadata": {
  "kaggle": {
   "accelerator": "none",
   "dataSources": [
    {
     "datasetId": 1486586,
     "sourceId": 2456026,
     "sourceType": "datasetVersion"
    }
   ],
   "dockerImageVersionId": 30152,
   "isGpuEnabled": false,
   "isInternetEnabled": true,
   "language": "python",
   "sourceType": "notebook"
  },
  "kernelspec": {
   "display_name": "Python 3",
   "language": "python",
   "name": "python3"
  },
  "language_info": {
   "codemirror_mode": {
    "name": "ipython",
    "version": 3
   },
   "file_extension": ".py",
   "mimetype": "text/x-python",
   "name": "python",
   "nbconvert_exporter": "python",
   "pygments_lexer": "ipython3",
   "version": "3.7.12"
  },
  "papermill": {
   "default_parameters": {},
   "duration": 374.045922,
   "end_time": "2025-03-08T17:16:47.435650",
   "environment_variables": {},
   "exception": null,
   "input_path": "__notebook__.ipynb",
   "output_path": "__notebook__.ipynb",
   "parameters": {},
   "start_time": "2025-03-08T17:10:33.389728",
   "version": "2.3.3"
  }
 },
 "nbformat": 4,
 "nbformat_minor": 5
}
